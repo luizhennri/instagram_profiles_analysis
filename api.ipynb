{
 "cells": [
  {
   "cell_type": "code",
   "execution_count": null,
   "metadata": {},
   "outputs": [],
   "source": [
    "import pandas as pd\n",
    "import seaborn as sns\n",
    "import matplotlib.pyplot as plt\n",
    "import re\n",
    "import requests\n",
    "from bs4 import BeautifulSoup\n",
    "import datetime as dt"
   ]
  },
  {
   "cell_type": "code",
   "execution_count": null,
   "metadata": {},
   "outputs": [],
   "source": [
    "DATA_PATH = 'data.xlsx'"
   ]
  },
  {
   "cell_type": "code",
   "execution_count": null,
   "metadata": {},
   "outputs": [],
   "source": [
    "reps_df = pd.read_excel(DATA_PATH)\n",
    "reps_df"
   ]
  },
  {
   "cell_type": "code",
   "execution_count": null,
   "metadata": {},
   "outputs": [],
   "source": [
    "followers_list = []\n",
    "\n",
    "for ig in reps_df['Instagram'].values:\n",
    "    response_profile = requests.get('https://www.instagram.com/' + ig).text\n",
    "\n",
    "    soup = BeautifulSoup(response_profile, 'html.parser')\n",
    "\n",
    "    followers = soup.find(\"meta\", property=\"og:description\")[\"content\"].split(' ')[0]\n",
    "\n",
    "    if 'K' in followers:\n",
    "        followers_list.append(float(followers.replace('K', '000')))\n",
    "    elif ',' in followers:\n",
    "        followers_list.append(float(followers.replace(',', '')))\n",
    "    else:\n",
    "        followers_list.append(float(followers))\n",
    "\n",
    "reps_df['Seguidores'] = followers_list\n",
    "reps_df\n"
   ]
  },
  {
   "cell_type": "code",
   "execution_count": null,
   "metadata": {},
   "outputs": [],
   "source": [
    "graph_rep = reps_df.sort_values(['Seguidores'], ascending=False)\n",
    "graph_rep"
   ]
  },
  {
   "cell_type": "code",
   "execution_count": null,
   "metadata": {},
   "outputs": [],
   "source": [
    "plt.subplots(figsize=(18, 8))\n",
    "ax = sns.barplot(x = graph_rep['Republica'][0:18], y = graph_rep['Seguidores'][0:18], palette = 'magma')\n",
    "plt.title('Repúblicas de Ribeirão Preto com mais seguidores')\n",
    "\n",
    "for i in ax.containers:\n",
    "    ax.bar_label(i,)\n",
    "\n",
    "plt.savefig('followers_repsrp_' + (str(dt.date.today())) + '.png', dpi = 300, orientation = 'horizontal')\n",
    "plt.legend()\n",
    "plt.show()"
   ]
  },
  {
   "cell_type": "code",
   "execution_count": null,
   "metadata": {},
   "outputs": [],
   "source": []
  }
 ],
 "metadata": {
  "kernelspec": {
   "display_name": "Python 3",
   "language": "python",
   "name": "python3"
  },
  "language_info": {
   "codemirror_mode": {
    "name": "ipython",
    "version": 3
   },
   "file_extension": ".py",
   "mimetype": "text/x-python",
   "name": "python",
   "nbconvert_exporter": "python",
   "pygments_lexer": "ipython3",
   "version": "3.13.5"
  },
  "orig_nbformat": 4
 },
 "nbformat": 4,
 "nbformat_minor": 2
}
